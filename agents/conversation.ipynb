{
 "cells": [
  {
   "cell_type": "code",
   "execution_count": 3,
   "metadata": {},
   "outputs": [],
   "source": [
    "import os\n",
    "\n",
    "from dotenv import load_dotenv\n",
    "from langchain.chains import ConversationChain\n",
    "from langchain.memory import ConversationBufferMemory\n",
    "from langchain_openai import ChatOpenAI\n",
    "\n",
    "memory = ConversationBufferMemory()\n",
    "load_dotenv()\n",
    "OPENAI_API_KEY = os.getenv(\"OPEN_AI_KEY\")\n",
    "os.environ[\"OPENAI_API_KEY\"] = OPENAI_API_KEY\n",
    "# client = OpenAI(api_key=OPENAI_API_KEY)\n",
    "\n",
    "# Initialize LLM\n",
    "llm = ChatOpenAI(model_name=\"gpt-4o-mini\", openai_api_key=OPENAI_API_KEY)\n",
    "chat = ConversationChain(llm=llm, memory=memory)"
   ]
  },
  {
   "cell_type": "code",
   "execution_count": 4,
   "metadata": {},
   "outputs": [
    {
     "name": "stdout",
     "output_type": "stream",
     "text": [
      "Hello, Pankaj! It’s great to meet you! I'm here to chat, answer questions, or help with anything you might need. What’s on your mind today?\n"
     ]
    }
   ],
   "source": [
    "response1 = chat.predict(input=\"Hello, I am Pankaj!\")\n",
    "print(response1)  # AI remembers your name"
   ]
  },
  {
   "cell_type": "code",
   "execution_count": 5,
   "metadata": {},
   "outputs": [
    {
     "name": "stdout",
     "output_type": "stream",
     "text": [
      "Your name is Pankaj! It's nice to remember that, so we can have a more personal conversation. What would you like to talk about today?\n"
     ]
    }
   ],
   "source": [
    "response2 = chat.predict(input=\"What is my name?\")\n",
    "print(response2)  # AI should reply \"Your name is Pankaj.\""
   ]
  },
  {
   "cell_type": "code",
   "execution_count": 6,
   "metadata": {},
   "outputs": [
    {
     "data": {
      "text/plain": [
       "ConversationChain(memory=ConversationBufferMemory(chat_memory=InMemoryChatMessageHistory(messages=[HumanMessage(content='Hello, I am Pankaj!', additional_kwargs={}, response_metadata={}), AIMessage(content=\"Hello, Pankaj! It’s great to meet you! I'm here to chat, answer questions, or help with anything you might need. What’s on your mind today?\", additional_kwargs={}, response_metadata={}), HumanMessage(content='What is my name?', additional_kwargs={}, response_metadata={}), AIMessage(content=\"Your name is Pankaj! It's nice to remember that, so we can have a more personal conversation. What would you like to talk about today?\", additional_kwargs={}, response_metadata={})])), verbose=False, llm=ChatOpenAI(client=<openai.resources.chat.completions.Completions object at 0x7f8f12d72420>, async_client=<openai.resources.chat.completions.AsyncCompletions object at 0x7f8f12d840b0>, root_client=<openai.OpenAI object at 0x7f8f349ed760>, root_async_client=<openai.AsyncOpenAI object at 0x7f8f12d72330>, model_name='gpt-4o-mini', model_kwargs={}, openai_api_key=SecretStr('**********')), output_parser=StrOutputParser(), llm_kwargs={})"
      ]
     },
     "execution_count": 6,
     "metadata": {},
     "output_type": "execute_result"
    }
   ],
   "source": [
    "chat"
   ]
  },
  {
   "cell_type": "code",
   "execution_count": null,
   "metadata": {},
   "outputs": [],
   "source": []
  }
 ],
 "metadata": {
  "kernelspec": {
   "display_name": ".venv",
   "language": "python",
   "name": "python3"
  },
  "language_info": {
   "codemirror_mode": {
    "name": "ipython",
    "version": 3
   },
   "file_extension": ".py",
   "mimetype": "text/x-python",
   "name": "python",
   "nbconvert_exporter": "python",
   "pygments_lexer": "ipython3",
   "version": "3.12.3"
  }
 },
 "nbformat": 4,
 "nbformat_minor": 2
}
