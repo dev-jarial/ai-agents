{
 "cells": [
  {
   "cell_type": "code",
   "execution_count": 1,
   "metadata": {},
   "outputs": [],
   "source": [
    "import os\n",
    "\n",
    "from dotenv import load_dotenv\n",
    "from langchain_openai import ChatOpenAI\n",
    "\n",
    "load_dotenv()\n",
    "OPENAI_API_KEY = os.getenv(\"OPEN_AI_KEY\")\n",
    "os.environ[\"OPENAI_API_KEY\"] = OPENAI_API_KEY\n",
    "# client = OpenAI(api_key=OPENAI_API_KEY)\n",
    "\n",
    "# Initialize LLM\n",
    "llm = ChatOpenAI(model_name=\"gpt-4o-mini\", openai_api_key=OPENAI_API_KEY)"
   ]
  },
  {
   "cell_type": "code",
   "execution_count": 17,
   "metadata": {},
   "outputs": [],
   "source": [
    "import requests\n",
    "from langchain.chains import LLMChain, SequentialChain\n",
    "from langchain.prompts import PromptTemplate\n",
    "\n",
    "\n",
    "def weather_search(city):\n",
    "    response = requests.get(\n",
    "        url=f\"https://api.weatherapi.com/v1/current.json?key=6462b585c894452484d224329250102&q={city}\"\n",
    "    )\n",
    "\n",
    "    return str(response.json())\n",
    "\n",
    "\n",
    "weather_details_prompt = PromptTemplate.from_template(\n",
    "    \"Summarize the weather condition: {city_weather}\"\n",
    ")\n",
    "weather_details_chain = LLMChain(\n",
    "    llm=llm, prompt=weather_details_prompt, output_key=\"weather_summary\"\n",
    ")\n",
    "\n",
    "time_spend_suggestions = PromptTemplate.from_template(\n",
    "    \"\"\"Given this weather condition, suggest activities:\\n\\nWeather: {weather_summary}\"\"\"\n",
    ")\n",
    "time_spend_chain = LLMChain(\n",
    "    llm=llm, prompt=time_spend_suggestions, output_key=\"activity_suggestions\"\n",
    ")\n",
    "\n",
    "sequential_chain = SequentialChain(\n",
    "    chains=[weather_details_chain, time_spend_chain],\n",
    "    input_variables=[\"city_weather\"],\n",
    "    output_variables=[\"activity_suggestions\"],\n",
    "    verbose=True,\n",
    ")"
   ]
  },
  {
   "cell_type": "code",
   "execution_count": 18,
   "metadata": {},
   "outputs": [
    {
     "data": {
      "text/plain": [
       "\"{'location': {'name': 'Chandigarh', 'region': 'Chandigarh', 'country': 'India', 'lat': 30.7372, 'lon': 76.7872, 'tz_id': 'Asia/Kolkata', 'localtime_epoch': 1738451934, 'localtime': '2025-02-02 04:48'}, 'current': {'last_updated_epoch': 1738451700, 'last_updated': '2025-02-02 04:45', 'temp_c': 12.4, 'temp_f': 54.2, 'is_day': 0, 'condition': {'text': 'Clear', 'icon': '//cdn.weatherapi.com/weather/64x64/night/113.png', 'code': 1000}, 'wind_mph': 4.7, 'wind_kph': 7.6, 'wind_degree': 31, 'wind_dir': 'NNE', 'pressure_mb': 1014.0, 'pressure_in': 29.95, 'precip_mm': 0.0, 'precip_in': 0.0, 'humidity': 40, 'cloud': 3, 'feelslike_c': 11.9, 'feelslike_f': 53.3, 'windchill_c': 11.9, 'windchill_f': 53.3, 'heatindex_c': 12.4, 'heatindex_f': 54.2, 'dewpoint_c': -0.7, 'dewpoint_f': 30.8, 'vis_km': 10.0, 'vis_miles': 6.0, 'uv': 0.0, 'gust_mph': 9.9, 'gust_kph': 15.9}}\""
      ]
     },
     "execution_count": 18,
     "metadata": {},
     "output_type": "execute_result"
    }
   ],
   "source": [
    "weather_info = weather_search(\"Chandigarh\")\n",
    "weather_info"
   ]
  },
  {
   "cell_type": "code",
   "execution_count": 19,
   "metadata": {},
   "outputs": [
    {
     "name": "stdout",
     "output_type": "stream",
     "text": [
      "\n",
      "\n",
      "\u001b[1m> Entering new SequentialChain chain...\u001b[0m\n",
      "\n",
      "\u001b[1m> Finished chain.\u001b[0m\n",
      "The clear and mild nighttime weather in Chandigarh presents several enjoyable activities. Here are some suggestions:\n",
      "\n",
      "1. **Stargazing**: With clear skies and good visibility, this is a perfect opportunity to look up at the stars. Find a quiet spot away from city lights, bring a blanket, and enjoy the night sky.\n",
      "\n",
      "2. **Evening Walks**: Take a refreshing stroll in one of Chandigarh's parks or gardens like Sukhna Lake or Rose Garden. The cool breeze and clear weather make for a pleasant walking experience.\n",
      "\n",
      "3. **Outdoor Dining**: Consider visiting an outdoor café or restaurant. Enjoy a meal or coffee while taking advantage of the nice weather.\n",
      "\n",
      "4. **Picnic Night**: Pack a light dinner and head to a park for a nighttime picnic. The calm weather creates a cozy atmosphere for eating under the stars.\n",
      "\n",
      "5. **Photography**: If you're into photography, this weather is great for capturing nighttime shots. The visibility will help you take clear pictures of the city's landmarks illuminated at night.\n",
      "\n",
      "6. **Movie Night**: Host an outdoor movie night in your backyard or on your terrace. Bring a projector, some cozy blankets, and enjoy a film under the stars.\n",
      "\n",
      "7. **Cycling**: Go for a nighttime bike ride around the city. The temperature is comfortable, and the light wind can make the ride enjoyable.\n",
      "\n",
      "8. **Join a Night Market**: If there are any night markets or local events happening in the area, it could be a great outing to explore local crafts, food, and culture.\n",
      "\n",
      "Enjoy your evening in Chandigarh!\n"
     ]
    }
   ],
   "source": [
    "response = sequential_chain.invoke(\n",
    "    {\"city_weather\": weather_info}\n",
    ")  # ✅ Pass the fetched weather data\n",
    "print(response)\n"
   ]
  },
  {
   "cell_type": "code",
   "execution_count": 21,
   "metadata": {},
   "outputs": [
    {
     "data": {
      "text/plain": [
       "LLMChain(verbose=False, prompt=PromptTemplate(input_variables=['city_weather'], input_types={}, partial_variables={}, template='Summarize the weather condition: {city_weather}'), llm=ChatOpenAI(client=<openai.resources.chat.completions.Completions object at 0x7f50fd7a28a0>, async_client=<openai.resources.chat.completions.AsyncCompletions object at 0x7f50fd7bc680>, root_client=<openai.OpenAI object at 0x7f51144a6090>, root_async_client=<openai.AsyncOpenAI object at 0x7f50fd7a2900>, model_name='gpt-4o-mini', model_kwargs={}, openai_api_key=SecretStr('**********')), output_key='weather_summary', output_parser=StrOutputParser(), llm_kwargs={})"
      ]
     },
     "execution_count": 21,
     "metadata": {},
     "output_type": "execute_result"
    }
   ],
   "source": [
    "weather_details_chain"
   ]
  },
  {
   "cell_type": "code",
   "execution_count": null,
   "metadata": {},
   "outputs": [],
   "source": []
  }
 ],
 "metadata": {
  "kernelspec": {
   "display_name": ".venv",
   "language": "python",
   "name": "python3"
  },
  "language_info": {
   "codemirror_mode": {
    "name": "ipython",
    "version": 3
   },
   "file_extension": ".py",
   "mimetype": "text/x-python",
   "name": "python",
   "nbconvert_exporter": "python",
   "pygments_lexer": "ipython3",
   "version": "3.12.3"
  }
 },
 "nbformat": 4,
 "nbformat_minor": 2
}
