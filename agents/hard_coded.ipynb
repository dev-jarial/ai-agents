{
 "cells": [
  {
   "cell_type": "code",
   "execution_count": 12,
   "metadata": {},
   "outputs": [
    {
     "name": "stdout",
     "output_type": "stream",
     "text": [
      "\n",
      "\n",
      "\u001b[1m> Entering new AgentExecutor chain...\u001b[0m\n",
      "\u001b[32;1m\u001b[1;3m\n",
      "Invoking: `customer_support` with `{}`\n",
      "\n",
      "\n",
      "\u001b[0m\u001b[36;1m\u001b[1;3m{'url': 'https://customer.flipkart.com', 'phone_no': '198748188174', 'Should_customer_call_you': ['yes', 'no']}\u001b[0m\u001b[32;1m\u001b[1;3mYou can contact customer support through the following options:\n",
      "\n",
      "- **Website**: [Flipkart Customer Support](https://customer.flipkart.com)\n",
      "- **Phone**: 198748188174\n",
      "\n",
      "Would you prefer to call or use the website for your inquiry?\u001b[0m\n",
      "\n",
      "\u001b[1m> Finished chain.\u001b[0m\n"
     ]
    },
    {
     "data": {
      "text/plain": [
       "{'input': 'I want to contact customer support!',\n",
       " 'output': 'You can contact customer support through the following options:\\n\\n- **Website**: [Flipkart Customer Support](https://customer.flipkart.com)\\n- **Phone**: 198748188174\\n\\nWould you prefer to call or use the website for your inquiry?'}"
      ]
     },
     "execution_count": 12,
     "metadata": {},
     "output_type": "execute_result"
    }
   ],
   "source": [
    "import os\n",
    "\n",
    "from dotenv import load_dotenv\n",
    "from langchain.agents import AgentType, initialize_agent\n",
    "from langchain.tools import StructuredTool\n",
    "from langchain_openai.chat_models import ChatOpenAI\n",
    "\n",
    "load_dotenv()\n",
    "OPENAI_API_KEY = os.getenv(\"OPEN_AI_KEY\")\n",
    "os.environ[\"OPENAI_API_KEY\"] = OPENAI_API_KEY\n",
    "# client = OpenAI(api_key=OPENAI_API_KEY)\n",
    "\n",
    "# Initialize LLM\n",
    "llm = ChatOpenAI(model_name=\"gpt-4o-mini\", openai_api_key=OPENAI_API_KEY)\n",
    "\n",
    "\n",
    "def customer_support(condition: bool = True):\n",
    "    return {\n",
    "        \"url\": \"https://customer.flipkart.com\",\n",
    "        \"phone_no\": \"198748188174\",\n",
    "        \"Should_customer_call_you\": [\"yes\", \"no\"],\n",
    "    }\n",
    "\n",
    "\n",
    "support_tool = StructuredTool.from_function(\n",
    "    func=customer_support,\n",
    "    name=\"customer_support\",\n",
    "    description=\"Provide customer support contact details.\",\n",
    "    # return_direct=True,\n",
    ")\n",
    "\n",
    "llm = ChatOpenAI(model_name=\"gpt-4o-mini\", openai_api_key=OPENAI_API_KEY)\n",
    "agent = initialize_agent(\n",
    "    tools=[support_tool],\n",
    "    llm=llm,\n",
    "    agent=AgentType.OPENAI_FUNCTIONS,\n",
    "    verbose=True,\n",
    ")\n",
    "\n",
    "\n",
    "user_input = \"I want to contact customer support!\"\n",
    "response = agent.invoke(user_input)\n",
    "\n",
    "\n",
    "response\n"
   ]
  },
  {
   "cell_type": "code",
   "execution_count": null,
   "metadata": {},
   "outputs": [],
   "source": []
  }
 ],
 "metadata": {
  "kernelspec": {
   "display_name": ".venv",
   "language": "python",
   "name": "python3"
  },
  "language_info": {
   "codemirror_mode": {
    "name": "ipython",
    "version": 3
   },
   "file_extension": ".py",
   "mimetype": "text/x-python",
   "name": "python",
   "nbconvert_exporter": "python",
   "pygments_lexer": "ipython3",
   "version": "3.12.3"
  }
 },
 "nbformat": 4,
 "nbformat_minor": 2
}
