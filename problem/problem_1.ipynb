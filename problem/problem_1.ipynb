{
 "cells": [
  {
   "cell_type": "code",
   "execution_count": null,
   "metadata": {},
   "outputs": [],
   "source": [
    "import datetime\n",
    "import json\n",
    "import os\n",
    "import random\n",
    "\n",
    "from dotenv import load_dotenv\n",
    "\n",
    "load_dotenv()\n",
    "from langchain.agents import AgentType, initialize_agent\n",
    "from langchain.tools import Tool\n",
    "from langchain_openai.chat_models import ChatOpenAI\n",
    "\n",
    "OPENAI_API_KEY = os.getenv(\"OPEN_AI_KEY\")\n",
    "os.environ[\"OPENAI_API_KEY\"] = OPENAI_API_KEY\n",
    "\n",
    "# ✅ AI Model\n",
    "llm = ChatOpenAI(model_name=\"gpt-4-mini\", openai_api_key=OPENAI_API_KEY)\n",
    "\n",
    "# Load dummy customer database\n",
    "with open(\"customer_data.json\", \"r\") as file:\n",
    "    customer_data = json.load(file)\n",
    "\n",
    "# Static Customer Support Contact\n",
    "SUPPORT_NUMBER = \"+91 9876543210\""
   ]
  },
  {
   "cell_type": "code",
   "execution_count": 7,
   "metadata": {},
   "outputs": [],
   "source": [
    "# ✅ Function: Verify User\n",
    "def verify_user(phone, email):\n",
    "    for user in customer_data[\"users\"]:\n",
    "        if user[\"phone\"] == phone and user[\"email\"] == email:\n",
    "            return user\n",
    "    return None\n"
   ]
  },
  {
   "cell_type": "code",
   "execution_count": null,
   "metadata": {},
   "outputs": [],
   "source": [
    "# Dummy order tracking database\n",
    "order_tracking_data = {\n",
    "    \"123456\": {\n",
    "        \"status\": \"In Transit\",\n",
    "        \"expected_delivery\": \"2024-02-10\",\n",
    "        \"last_location\": \"Delhi Warehouse\",\n",
    "    },\n",
    "    \"654321\": {\n",
    "        \"status\": \"Delivered\",\n",
    "        \"expected_delivery\": \"2024-01-25\",\n",
    "        \"last_location\": \"Customer Address\",\n",
    "    },\n",
    "}"
   ]
  },
  {
   "cell_type": "code",
   "execution_count": null,
   "metadata": {},
   "outputs": [],
   "source": []
  }
 ],
 "metadata": {
  "kernelspec": {
   "display_name": ".venv",
   "language": "python",
   "name": "python3"
  },
  "language_info": {
   "codemirror_mode": {
    "name": "ipython",
    "version": 3
   },
   "file_extension": ".py",
   "mimetype": "text/x-python",
   "name": "python",
   "nbconvert_exporter": "python",
   "pygments_lexer": "ipython3",
   "version": "3.12.3"
  }
 },
 "nbformat": 4,
 "nbformat_minor": 2
}
