{
 "cells": [
  {
   "cell_type": "code",
   "execution_count": 1,
   "metadata": {},
   "outputs": [],
   "source": [
    "from langchain_community.document_loaders import UnstructuredURLLoader"
   ]
  },
  {
   "cell_type": "code",
   "execution_count": 6,
   "metadata": {},
   "outputs": [],
   "source": [
    "url = input(\"paste you user here: \")"
   ]
  },
  {
   "cell_type": "code",
   "execution_count": 7,
   "metadata": {},
   "outputs": [],
   "source": [
    "urls = list()\n",
    "urls.append(url)"
   ]
  },
  {
   "cell_type": "code",
   "execution_count": 8,
   "metadata": {},
   "outputs": [
    {
     "data": {
      "text/plain": [
       "['https://www.p2pconnect.in/']"
      ]
     },
     "execution_count": 8,
     "metadata": {},
     "output_type": "execute_result"
    }
   ],
   "source": [
    "urls"
   ]
  },
  {
   "cell_type": "code",
   "execution_count": 9,
   "metadata": {},
   "outputs": [],
   "source": [
    "loader = UnstructuredURLLoader(urls=urls)"
   ]
  },
  {
   "cell_type": "code",
   "execution_count": 10,
   "metadata": {},
   "outputs": [],
   "source": [
    "data = loader.load()"
   ]
  },
  {
   "cell_type": "code",
   "execution_count": 13,
   "metadata": {},
   "outputs": [
    {
     "data": {
      "text/plain": [
       "'Loading...\\n\\nConnecting\\n\\nPartner with\\n\\nPartners\\n\\nWe enable partners to find right fellow partners across ERP, CRM , Analytics and more...\\n\\n200+\\n\\nPartners\\n\\n10+\\n\\nSolution Category\\n\\n100+\\n\\nLeads\\n\\n$200K +\\n\\nDeals to be closed\\n\\nPartner Testimonial\\n\\nPratyush Dash\\n\\nSr Director Engineering, Innominds Software Pvt Ltd.\\n\\n\"Partnership with P2P Connect has been working well and team is very open minded and collaborative. We work as a team and share experiences of success and failure. We learn from past and move ahead with best practices. Team is always available to answer promptly and ready to remove any roadblocks\"\\n\\nCUSTOMER REQUIREMENT\\n\\nHave A Customer Requirement, How Do I Fulfill?\\n\\nFind a competent partner to fulfill your customer requirment across the globe\\n\\nJoin Now\\n\\nHow P2P Works?\\n\\nSign up now to avail the limited time introduction offer Click here to know\\n\\nJoin Now\\n\\nP2P Connect\\n\\nP2P Connects aims to simplify the process of finding and striking connections between partners. It serves as a hub for partners looking to connect with potential partners to expand their reach and drive revenue.\\n\\nFor Partner\\n\\nWhy P2P Connect? How it Works Find a Partner Post your Requirement Events\\n\\nAbout Us\\n\\nAbout Privacy Policy Terms & Conditions Blog\\n\\nContact Us\\n\\nE-804, The View, Ramprastha City, Sector-37, Gurgaon-122003\\n\\n+91 91678 54544\\n\\nE-Mail: connect@p2pconnect.in\\n\\n© 2023 P2P Connect\\n\\nAll Right Reserved.'"
      ]
     },
     "execution_count": 13,
     "metadata": {},
     "output_type": "execute_result"
    }
   ],
   "source": [
    "data[0].page_content"
   ]
  },
  {
   "cell_type": "code",
   "execution_count": null,
   "metadata": {},
   "outputs": [],
   "source": []
  }
 ],
 "metadata": {
  "kernelspec": {
   "display_name": ".venv",
   "language": "python",
   "name": "python3"
  },
  "language_info": {
   "codemirror_mode": {
    "name": "ipython",
    "version": 3
   },
   "file_extension": ".py",
   "mimetype": "text/x-python",
   "name": "python",
   "nbconvert_exporter": "python",
   "pygments_lexer": "ipython3",
   "version": "3.12.3"
  }
 },
 "nbformat": 4,
 "nbformat_minor": 2
}
